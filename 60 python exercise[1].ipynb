{
 "cells": [
  {
   "cell_type": "markdown",
   "id": "759d04ba",
   "metadata": {},
   "source": [
    "**1-Write a Python program to calculate the length of a string using 2 ways"
   ]
  },
  {
   "cell_type": "code",
   "execution_count": null,
   "id": "e434c950",
   "metadata": {},
   "outputs": [
    {
     "name": "stdout",
     "output_type": "stream",
     "text": [
      "Length of the string: 13\n"
     ]
    }
   ],
   "source": [
    "#meth1\n",
    "input_string = \"Hello, World!\"\n",
    "length = len(input_string)\n",
    "print(\"Length of the string:\", length)\n"
   ]
  },
  {
   "cell_type": "code",
   "execution_count": null,
   "id": "7a2dfa32",
   "metadata": {},
   "outputs": [
    {
     "name": "stdout",
     "output_type": "stream",
     "text": [
      "Length of the string: 13\n"
     ]
    }
   ],
   "source": [
    "#meth2\n",
    "input_string = \"Hello, World!\"\n",
    "count = 0\n",
    "for char in input_string:\n",
    "    count += 1\n",
    "print(\"Length of the string:\", count)"
   ]
  },
  {
   "cell_type": "markdown",
   "id": "d7cc9da7",
   "metadata": {},
   "source": [
    "**2-Write a Python program to get a string made of the first 2 and last 2 characters of a given string. If the string length is less than 2, return the empty string instead (\"##Sample String : 'w3resource'\n",
    "Expected Result : 'w3ce'\n",
    "##Sample String : 'w3'\n",
    "Expected Result : 'w3w3'\n",
    "##Sample String : ' w'\n",
    "Expected Result : Empty String)"
   ]
  },
  {
   "cell_type": "code",
   "execution_count": null,
   "id": "dafa9dd8",
   "metadata": {},
   "outputs": [
    {
     "name": "stdout",
     "output_type": "stream",
     "text": [
      "Result: w3ce\n"
     ]
    }
   ],
   "source": [
    "\n",
    "input_string = \"w3resource\"\n",
    "if len(input_string) < 2:\n",
    "    result = \"\"\n",
    "else:\n",
    "    result = input_string[:2] + input_string[-2:]\n",
    "print(\"Result:\", result)"
   ]
  },
  {
   "cell_type": "markdown",
   "id": "1534f956",
   "metadata": {},
   "source": [
    "**3-Write a Python program to add 'ing' at the end of a given string (length should be at least 3). If the given string already ends with 'ing', add 'ly' instead. If the string length of the given string is less than 3, leave it unchanged. (Sample String : 'abc'\n",
    "Expected Result : 'abcing')"
   ]
  },
  {
   "cell_type": "code",
   "execution_count": null,
   "id": "7ff8cec4",
   "metadata": {},
   "outputs": [
    {
     "name": "stdout",
     "output_type": "stream",
     "text": [
      "Result: abcing\n"
     ]
    }
   ],
   "source": [
    "\n",
    "input_string = \"abc\"\n",
    "if len(input_string) < 3:\n",
    "    result = input_string\n",
    "elif input_string[-3:] == \"ing\":\n",
    "    result = input_string + \"ly\"\n",
    "else:\n",
    "    result = input_string + \"ing\"\n",
    "print(\"Result:\", result)"
   ]
  },
  {
   "cell_type": "markdown",
   "id": "1c0a6627",
   "metadata": {},
   "source": [
    "**4-Write a Python function that takes a list of words and return the longest word and the length of the longest one\n",
    "(Longest word: Exercises\n",
    "Length of the longest word: 9)"
   ]
  },
  {
   "cell_type": "code",
   "execution_count": null,
   "id": "397341d9",
   "metadata": {},
   "outputs": [
    {
     "name": "stdout",
     "output_type": "stream",
     "text": [
      "('mazen osama mohamed', 19)\n"
     ]
    }
   ],
   "source": [
    "def find_longest_word(words):\n",
    "    longest_word = \"\"\n",
    "    max_length = 0\n",
    "    for word in words:\n",
    "        length = len(word)\n",
    "        if length > max_length:\n",
    "            longest_word = word\n",
    "            max_length = length\n",
    "    return longest_word, max_length\n",
    "words=[\"mazen\",\"mazen osama\",\"mazen osama mohamed\"]\n",
    "print(find_longest_word(words))"
   ]
  },
  {
   "cell_type": "markdown",
   "id": "53a03a6a",
   "metadata": {},
   "source": [
    "**5-Write a Python program to change a given string to a newly string where the first and last chars have been exchanged using 2 ways (Sample String:abca  Expected Result:ebce)"
   ]
  },
  {
   "cell_type": "code",
   "execution_count": null,
   "id": "fd327d2a",
   "metadata": {},
   "outputs": [
    {
     "name": "stdout",
     "output_type": "stream",
     "text": [
      "Result: nazem\n"
     ]
    }
   ],
   "source": [
    "#meth1\n",
    "input_string = \"mazen\"\n",
    "if len(input_string) <= 1:\n",
    "    result = input_string\n",
    "else:\n",
    "    result = input_string[-1] + input_string[1:-1] + input_string[0]\n",
    "print(\"Result:\", result)"
   ]
  },
  {
   "cell_type": "code",
   "execution_count": null,
   "id": "285788b4",
   "metadata": {},
   "outputs": [
    {
     "name": "stdout",
     "output_type": "stream",
     "text": [
      "Result: asamo\n"
     ]
    }
   ],
   "source": [
    "#meth2\n",
    "input_string = \"osama\"\n",
    "if len(input_string) <= 1:\n",
    "    result = input_string\n",
    "else:\n",
    "    result = input_string[len(input_string) - 1] + input_string[1:len(input_string) - 1] + input_string[0]\n",
    "print(\"Result:\", result)"
   ]
  },
  {
   "cell_type": "markdown",
   "id": "25f89808",
   "metadata": {},
   "source": [
    "**6-Write a Python program to remove characters that have odd index values in a given string (Sample String:abca Expected Result:ac)"
   ]
  },
  {
   "cell_type": "code",
   "execution_count": null,
   "id": "05959bd7",
   "metadata": {},
   "outputs": [
    {
     "name": "stdout",
     "output_type": "stream",
     "text": [
      "Result: ac\n"
     ]
    }
   ],
   "source": [
    "\n",
    "input_string = \"abca\"\n",
    "result = \"\"\n",
    "for i in range(len(input_string)):\n",
    "    if i % 2 == 0:\n",
    "        result += input_string[i]\n",
    "print(\"Result:\", result)"
   ]
  },
  {
   "cell_type": "markdown",
   "id": "eb16e898",
   "metadata": {},
   "source": [
    "**7-Write a Python program to count the occurrences of each word in a given sentence (Sample String:amr and ahmed are frindes but amr is the tallest Expected Result:2)"
   ]
  },
  {
   "cell_type": "code",
   "execution_count": null,
   "id": "01ce6cf5",
   "metadata": {},
   "outputs": [
    {
     "name": "stdout",
     "output_type": "stream",
     "text": [
      "mazen : 1\n",
      "and : 1\n",
      "ahmed : 1\n",
      "are : 1\n",
      "friends : 1\n"
     ]
    }
   ],
   "source": [
    "\n",
    "input_sentence = \"mazen and ahmed are friends \"\n",
    "\n",
    "words = input_sentence.split()\n",
    "\n",
    "\n",
    "word_counts = {}\n",
    "for word in words:\n",
    "    if word in word_counts:\n",
    "        word_counts[word] += 1\n",
    "    else:\n",
    "        word_counts[word] = 1\n",
    "\n",
    "\n",
    "for word, count in word_counts.items():\n",
    "    print(word, \":\", count)"
   ]
  },
  {
   "cell_type": "markdown",
   "id": "4e8125f1",
   "metadata": {},
   "source": [
    "**8-Write a Python script that takes input from the user and displays that input back in upper and lower cases"
   ]
  },
  {
   "cell_type": "code",
   "execution_count": 75,
   "id": "66c8f778",
   "metadata": {},
   "outputs": [],
   "source": [
    "\n",
    "user_input = input(\"Enter some text: \")\n",
    "print(\"Upper case:\", user_input.upper())\n",
    "print(\"Lower case:\", user_input.lower())"
   ]
  },
  {
   "cell_type": "markdown",
   "id": "fcd68aa1",
   "metadata": {},
   "source": [
    "**9-Write a Python function to reverse a string if its length is a multiple of 4"
   ]
  },
  {
   "cell_type": "code",
   "execution_count": 1,
   "id": "0671a931",
   "metadata": {},
   "outputs": [
    {
     "name": "stdout",
     "output_type": "stream",
     "text": [
      "mazen\n",
      "tlov\n"
     ]
    }
   ],
   "source": [
    "def reverse_string(input_string):\n",
    "    if len(input_string) % 4 == 0:\n",
    "        return input_string[::-1]\n",
    "    else:\n",
    "        return input_string\n",
    "string1=\"mazen\"\n",
    "string2=\"volt\"\n",
    "print(reverse_string(string1))\n",
    "print(reverse_string(string2))"
   ]
  },
  {
   "cell_type": "markdown",
   "id": "b577c68d",
   "metadata": {},
   "source": [
    "**10- Write a Python program to remove a newline in Python"
   ]
  },
  {
   "cell_type": "code",
   "execution_count": 41,
   "id": "e0c6525a",
   "metadata": {},
   "outputs": [
    {
     "name": "stdout",
     "output_type": "stream",
     "text": [
      "String with newline: mazen osama\n",
      "mohamed\n",
      "String without newline: mazen osama mohamed\n"
     ]
    }
   ],
   "source": [
    "\n",
    "string_with_newline = \"mazen osama\\nmohamed\"\n",
    "string_without_newline = string_with_newline.replace(\"\\n\",\" \")\n",
    "print(\"String with newline:\", string_with_newline)\n",
    "print(\"String without newline:\", string_without_newline)"
   ]
  },
  {
   "cell_type": "markdown",
   "id": "80db5ae0",
   "metadata": {},
   "source": [
    "**11-Write a Python program to check whether a string starts with specified characters"
   ]
  },
  {
   "cell_type": "code",
   "execution_count": 43,
   "id": "0cc4e03e",
   "metadata": {},
   "outputs": [
    {
     "name": "stdout",
     "output_type": "stream",
     "text": [
      "The string starts with the specified characters.\n"
     ]
    }
   ],
   "source": [
    "\n",
    "input_string = \"mazen osama\"\n",
    "specified_chars = \"m\"\n",
    "if input_string.startswith(specified_chars):\n",
    "    print(\"The string starts with the specified characters.\")\n",
    "else:\n",
    "    print(\"The string does not start with the specified characters.\")"
   ]
  },
  {
   "cell_type": "markdown",
   "id": "593a68db",
   "metadata": {},
   "source": [
    "**12- Write a Python program to add prefix text to all of the lines in a string"
   ]
  },
  {
   "cell_type": "code",
   "execution_count": 47,
   "id": "d2e46ada",
   "metadata": {},
   "outputs": [
    {
     "name": "stdout",
     "output_type": "stream",
     "text": [
      "eng mazen\n",
      "eng ahmed\n",
      "\n"
     ]
    }
   ],
   "source": [
    "\n",
    "input_string = \"mazen\\nahmed\"\n",
    "prefix_text = \"eng \"\n",
    "result = \"\"\n",
    "for line in input_string.split(\"\\n\"):\n",
    "    result += prefix_text + line + \"\\n\"\n",
    "print(result)"
   ]
  },
  {
   "cell_type": "markdown",
   "id": "86fa1543",
   "metadata": {},
   "source": [
    "**13-Write a Python program to print the following numbers up to 2 decimal places"
   ]
  },
  {
   "cell_type": "code",
   "execution_count": 49,
   "id": "cd4a9d89",
   "metadata": {},
   "outputs": [
    {
     "name": "stdout",
     "output_type": "stream",
     "text": [
      "3.14\n",
      "2.72\n",
      "1.41\n",
      "0.58\n"
     ]
    }
   ],
   "source": [
    "\n",
    "numbers = [3.14159, 2.71828, 1.41421, 0.57721]\n",
    "for number in numbers:\n",
    "    print(\"{:.2f}\".format(number))"
   ]
  },
  {
   "cell_type": "markdown",
   "id": "452c0ab0",
   "metadata": {},
   "source": [
    "**14-Write a Python program to print the following numbers up to 2 decimal places with a sign"
   ]
  },
  {
   "cell_type": "code",
   "execution_count": 51,
   "id": "73e82479",
   "metadata": {},
   "outputs": [
    {
     "name": "stdout",
     "output_type": "stream",
     "text": [
      "+3.14\n",
      "-2.72\n",
      "+1.41\n",
      "-0.58\n"
     ]
    }
   ],
   "source": [
    "\n",
    "numbers = [3.14159, -2.71828, 1.41421, -0.57721]\n",
    "for number in numbers:\n",
    "    print(\"{:+.2f}\".format(number))"
   ]
  },
  {
   "cell_type": "markdown",
   "id": "32b1811a",
   "metadata": {},
   "source": [
    "**15-Write a Python program to display a number with a comma separator"
   ]
  },
  {
   "cell_type": "code",
   "execution_count": 53,
   "id": "f30fc0b6",
   "metadata": {},
   "outputs": [
    {
     "name": "stdout",
     "output_type": "stream",
     "text": [
      "1,234,567,890\n"
     ]
    }
   ],
   "source": [
    "\n",
    "number = 1234567890\n",
    "print(\"{:,}\".format(number))"
   ]
  },
  {
   "cell_type": "markdown",
   "id": "0477f487",
   "metadata": {},
   "source": [
    "**16-Write a Python program to reverse a string using 2 ways"
   ]
  },
  {
   "cell_type": "code",
   "execution_count": 57,
   "id": "aa8beec8",
   "metadata": {},
   "outputs": [
    {
     "name": "stdout",
     "output_type": "stream",
     "text": [
      "amaso nezam\n",
      "amaso nezam\n"
     ]
    }
   ],
   "source": [
    "#meth1\n",
    "input_string = \"mazen osama\"\n",
    "reversed_string = input_string[::-1]\n",
    "print(reversed_string)\n",
    "#meth2\n",
    "input_string = \"mazen osama\"\n",
    "reversed_string = \"\"\n",
    "for i in range(len(input_string) - 1, -1, -1):\n",
    "    reversed_string += input_string[i]\n",
    "print(reversed_string)"
   ]
  },
  {
   "cell_type": "markdown",
   "id": "5afc3166",
   "metadata": {},
   "source": [
    " **17-Write a Python program to count repeated characters in a string (hint:use dictionary)"
   ]
  },
  {
   "cell_type": "code",
   "execution_count": 59,
   "id": "515a469c",
   "metadata": {},
   "outputs": [
    {
     "name": "stdout",
     "output_type": "stream",
     "text": [
      "Character 'm' appears 2 times.\n",
      "Character 'a' appears 3 times.\n"
     ]
    }
   ],
   "source": [
    "\n",
    "input_string = \"mazen osama\"\n",
    "char_count = {}\n",
    "for char in input_string:\n",
    "    if char in char_count:\n",
    "        char_count[char] += 1\n",
    "    else:\n",
    "        char_count[char] = 1\n",
    "for char, count in char_count.items():\n",
    "    if count > 1:\n",
    "        print(\"Character '{}' appears {} times.\".format(char, count))"
   ]
  },
  {
   "cell_type": "markdown",
   "id": "ae14e4e5",
   "metadata": {},
   "source": [
    "**18-Write a Python program to find the first non-repeating character in a given string"
   ]
  },
  {
   "cell_type": "code",
   "execution_count": 63,
   "id": "d73778e5",
   "metadata": {},
   "outputs": [
    {
     "name": "stdout",
     "output_type": "stream",
     "text": [
      "The first non-repeating character is 'z'.\n"
     ]
    }
   ],
   "source": [
    "\n",
    "input_string = \"mazen osama\"\n",
    "char_count = {}\n",
    "for char in input_string:\n",
    "    if char in char_count:\n",
    "        char_count[char] += 1\n",
    "    else:\n",
    "        char_count[char] = 1\n",
    "for char in input_string:\n",
    "    if char_count[char] == 1:\n",
    "        print(\"The first non-repeating character is '{}'.\".format(char))\n",
    "        break\n",
    "else:\n",
    "    print(\"There are no non-repeating characters.\")"
   ]
  },
  {
   "cell_type": "markdown",
   "id": "3adf5669",
   "metadata": {},
   "source": [
    "**19-Write a Python program to remove spaces from a given string"
   ]
  },
  {
   "cell_type": "code",
   "execution_count": 65,
   "id": "b4f22602",
   "metadata": {},
   "outputs": [
    {
     "name": "stdout",
     "output_type": "stream",
     "text": [
      "mazenosama\n"
     ]
    }
   ],
   "source": [
    "\n",
    "input_string = \"   mazen osama   \"\n",
    "output_string = input_string.replace(\" \", \"\")\n",
    "print(output_string)"
   ]
  },
  {
   "cell_type": "markdown",
   "id": "734de60c",
   "metadata": {},
   "source": [
    "**20-Write a Python program to count the number of non-empty substrings of a given string"
   ]
  },
  {
   "cell_type": "code",
   "execution_count": 67,
   "id": "ef3f2274",
   "metadata": {},
   "outputs": [
    {
     "name": "stdout",
     "output_type": "stream",
     "text": [
      "The number of non-empty substrings is 10.\n"
     ]
    }
   ],
   "source": [
    "\n",
    "input_string = \"abcd\"\n",
    "count = 0\n",
    "for i in range(len(input_string)):\n",
    "    for j in range(i+1, len(input_string)+1):\n",
    "        count += 1\n",
    "print(\"The number of non-empty substrings is {}.\".format(count))"
   ]
  },
  {
   "cell_type": "markdown",
   "id": "509998e2",
   "metadata": {},
   "source": [
    "**21-write a Python program to swap first and last element of any list."
   ]
  },
  {
   "cell_type": "code",
   "execution_count": 69,
   "id": "68692d7f",
   "metadata": {},
   "outputs": [
    {
     "name": "stdout",
     "output_type": "stream",
     "text": [
      "[5, 2, 3, 4, 1]\n"
     ]
    }
   ],
   "source": [
    "input_list = [1, 2, 3, 4, 5]\n",
    "if len(input_list) >= 2:\n",
    "    input_list[0], input_list[-1] = input_list[-1], input_list[0]\n",
    "print(input_list)"
   ]
  },
  {
   "cell_type": "markdown",
   "id": "959e0837",
   "metadata": {},
   "source": [
    "**22-Given a list in Python and provided the positions of the elements, write a program to swap the two elements in the list. (Input : List = [23, 65, 19, 90], pos1 = 1, pos2 = 3\n",
    "Output : [19, 65, 23, 90])"
   ]
  },
  {
   "cell_type": "code",
   "execution_count": 71,
   "id": "225d8c6d",
   "metadata": {},
   "outputs": [
    {
     "name": "stdout",
     "output_type": "stream",
     "text": [
      "[23, 90, 19, 65]\n"
     ]
    }
   ],
   "source": [
    "input_list = [23, 65, 19, 90]\n",
    "pos1 = 1\n",
    "pos2 = 3\n",
    "if pos1 >= 0 and pos2 >= 0 and pos1 < len(input_list) and pos2 < len(input_list):\n",
    "    input_list[pos1], input_list[pos2] = input_list[pos2], input_list[pos1]\n",
    "print(input_list)"
   ]
  },
  {
   "cell_type": "markdown",
   "id": "32b691bc",
   "metadata": {},
   "source": [
    "**23- search for the all ways to know the length of the list"
   ]
  },
  {
   "cell_type": "code",
   "execution_count": 73,
   "id": "63ff8b43",
   "metadata": {},
   "outputs": [
    {
     "ename": "SyntaxError",
     "evalue": "invalid syntax (395265437.py, line 1)",
     "output_type": "error",
     "traceback": [
      "\u001b[1;36m  Cell \u001b[1;32mIn[73], line 1\u001b[1;36m\u001b[0m\n\u001b[1;33m    **24-write a Python code to find the Maximum number of list of numbers.\u001b[0m\n\u001b[1;37m    ^\u001b[0m\n\u001b[1;31mSyntaxError\u001b[0m\u001b[1;31m:\u001b[0m invalid syntax\n"
     ]
    }
   ],
   "source": [
    "**24-write a Python code to find the Maximum number of list of numbers."
   ]
  },
  {
   "cell_type": "code",
   "execution_count": null,
   "id": "ef78a413",
   "metadata": {},
   "outputs": [],
   "source": [
    "#23\n",
    "#len\n",
    "#for loop\n"
   ]
  },
  {
   "cell_type": "code",
   "execution_count": 74,
   "id": "eb37a837",
   "metadata": {},
   "outputs": [
    {
     "name": "stdout",
     "output_type": "stream",
     "text": [
      "The maximum number is: 50\n"
     ]
    }
   ],
   "source": [
    "#24\n",
    "numbers = [10, 20, 30, 40, 50]\n",
    "max_number = max(numbers)\n",
    "print(\"The maximum number is:\", max_number)"
   ]
  },
  {
   "cell_type": "code",
   "execution_count": null,
   "id": "c085f3dd",
   "metadata": {},
   "outputs": [],
   "source": []
  },
  {
   "cell_type": "code",
   "execution_count": null,
   "id": "fbbfc4fe",
   "metadata": {},
   "outputs": [],
   "source": []
  },
  {
   "cell_type": "code",
   "execution_count": null,
   "id": "15f342de",
   "metadata": {},
   "outputs": [],
   "source": []
  },
  {
   "cell_type": "code",
   "execution_count": 75,
   "id": "1a89b9d3",
   "metadata": {},
   "outputs": [
    {
     "ename": "SyntaxError",
     "evalue": "invalid syntax (236367960.py, line 1)",
     "output_type": "error",
     "traceback": [
      "\u001b[1;36m  Cell \u001b[1;32mIn[75], line 1\u001b[1;36m\u001b[0m\n\u001b[1;33m    **25-write a Python code to find the Minimum number of list of numbers.\u001b[0m\n\u001b[1;37m    ^\u001b[0m\n\u001b[1;31mSyntaxError\u001b[0m\u001b[1;31m:\u001b[0m invalid syntax\n"
     ]
    }
   ],
   "source": [
    "**25-write a Python code to find the Minimum number of list of numbers."
   ]
  },
  {
   "cell_type": "code",
   "execution_count": 76,
   "id": "21f8cbd6",
   "metadata": {},
   "outputs": [
    {
     "name": "stdout",
     "output_type": "stream",
     "text": [
      "The minimum number is: 10\n"
     ]
    }
   ],
   "source": [
    "numbers = [10, 20, 30, 40, 50]\n",
    "min_number = min(numbers)\n",
    "print(\"The minimum number is:\", min_number)"
   ]
  },
  {
   "cell_type": "markdown",
   "id": "96822d96",
   "metadata": {},
   "source": [
    "**26-search for if an elem is existing in list"
   ]
  },
  {
   "cell_type": "code",
   "execution_count": 87,
   "id": "51ca5c9a",
   "metadata": {},
   "outputs": [
    {
     "name": "stdout",
     "output_type": "stream",
     "text": [
      "The element osama exists in the list.\n"
     ]
    }
   ],
   "source": [
    "my_list = [\"mazen\", \"osama\", \"mohamed\"]\n",
    "elem = \"osama\"\n",
    "if elem in my_list:\n",
    "    print(\"The element\", elem, \"exists in the list.\")\n",
    "else:\n",
    "    print(\"The element\", elem, \"does not exist in the list.\")"
   ]
  },
  {
   "cell_type": "markdown",
   "id": "d9557da7",
   "metadata": {},
   "source": [
    "**27- clear python list using different ways"
   ]
  },
  {
   "cell_type": "code",
   "execution_count": 98,
   "id": "b69858a3",
   "metadata": {},
   "outputs": [
    {
     "name": "stdout",
     "output_type": "stream",
     "text": [
      "[]\n",
      "[]\n"
     ]
    }
   ],
   "source": [
    "#meth1\n",
    "my_list = [1, 2, 3, 4, 5]\n",
    "my_list.clear()\n",
    "print(my_list)\n",
    "#meth2\n",
    "my_list = [1, 2, 3, 4, 5]\n",
    "my_list = []\n",
    "print(my_list)"
   ]
  },
  {
   "cell_type": "markdown",
   "id": "52160e88",
   "metadata": {},
   "source": [
    "**28-remove duplicated elements from a list"
   ]
  },
  {
   "cell_type": "code",
   "execution_count": 109,
   "id": "5e362228",
   "metadata": {},
   "outputs": [
    {
     "name": "stdout",
     "output_type": "stream",
     "text": [
      "[1, 2, 3, 4, 5]\n"
     ]
    }
   ],
   "source": [
    "my_list = [1, 2, 2, 3, 3, 3, 4, 4, 5]\n",
    "my_list = list(set(my_list))\n",
    "print(my_list)"
   ]
  },
  {
   "cell_type": "markdown",
   "id": "282337f7",
   "metadata": {},
   "source": [
    "**29-Given list values and keys list, convert these values to key value pairs in form of list of dictionaries. (Input : test_list = [“Gfg”, 3, “is”, 8], key_list = [“name”, “id”]\n",
    "Output : [{‘name’: ‘Gfg’, ‘id’: 3}, {‘name’: ‘is’, ‘id’: 8}])"
   ]
  },
  {
   "cell_type": "code",
   "execution_count": 120,
   "id": "4d4e2d28",
   "metadata": {},
   "outputs": [
    {
     "name": "stdout",
     "output_type": "stream",
     "text": [
      "[{'name': 'Gfg', 'id': 3}, {'name': 'is', 'id': 8}]\n"
     ]
    }
   ],
   "source": [
    "test_list = [\"Gfg\", 3, \"is\", 8]\n",
    "key_list = [\"name\", \"id\"]\n",
    "result = []\n",
    "for i in range(len(test_list)//len(key_list)):\n",
    "    temp = {}\n",
    "    for j in range(len(key_list)):\n",
    "        temp[key_list[j]] = test_list[i*len(key_list) + j]\n",
    "    result.append(temp)\n",
    "print(result)"
   ]
  },
  {
   "cell_type": "markdown",
   "id": "c26b6e9f",
   "metadata": {},
   "source": [
    "**30-write a python program to count unique values inside a list using different ways"
   ]
  },
  {
   "cell_type": "code",
   "execution_count": 121,
   "id": "72132667",
   "metadata": {},
   "outputs": [
    {
     "name": "stdout",
     "output_type": "stream",
     "text": [
      "Number of unique values: 6\n",
      "Number of unique values: 6\n"
     ]
    }
   ],
   "source": [
    "#meth1\n",
    "input_list = [10, 20, 30, 40, 10, 20, 50, 60]\n",
    "\n",
    "unique_dict = {}\n",
    "for value in input_list:\n",
    "    if value in unique_dict:\n",
    "        unique_dict[value] += 1\n",
    "    else:\n",
    "        unique_dict[value] = 1\n",
    "count = len(unique_dict)\n",
    "print(\"Number of unique values:\", count)\n",
    "#meth2\n",
    "from collections import Counter\n",
    "input_list = [10, 20, 30, 40, 10, 20, 50, 60]\n",
    "unique_count = Counter(input_list)\n",
    "count = len(unique_count)\n",
    "print(\"Number of unique values:\", count)"
   ]
  },
  {
   "cell_type": "markdown",
   "id": "fed6677c",
   "metadata": {},
   "source": [
    "**31-write a python program Extract all elements with Frequency greater than K (Input : test_list = [4, 6, 4, 3, 3, 4, 3, 4, 3, 8], K = 3 \n",
    "Output : [4, 3] )"
   ]
  },
  {
   "cell_type": "code",
   "execution_count": 122,
   "id": "d81f3f9d",
   "metadata": {},
   "outputs": [
    {
     "name": "stdout",
     "output_type": "stream",
     "text": [
      "Elements with frequency greater than 3 : [4, 3]\n"
     ]
    }
   ],
   "source": [
    "\n",
    "test_list = [4, 6, 4, 3, 3, 4, 3, 4, 3, 8]\n",
    "K = 3\n",
    "freq_dict = {}\n",
    "for element in test_list:\n",
    "    if element in freq_dict:\n",
    "        freq_dict[element] += 1\n",
    "    else:\n",
    "        freq_dict[element] = 1\n",
    "result = []\n",
    "for element, frequency in freq_dict.items():\n",
    "    if frequency > K:\n",
    "        result.append(element)\n",
    "print(\"Elements with frequency greater than\", K, \":\", result)"
   ]
  },
  {
   "cell_type": "markdown",
   "id": "caca5224",
   "metadata": {},
   "source": [
    "**32-write a python program to find the Strongest Neighbour (Input: 1 2 2 3 4 5\n",
    "Output: 2 2 3 4 5)"
   ]
  },
  {
   "cell_type": "code",
   "execution_count": 131,
   "id": "39fbd9b2",
   "metadata": {},
   "outputs": [
    {
     "name": "stdout",
     "output_type": "stream",
     "text": [
      "[2, 3, 4, 5]\n"
     ]
    }
   ],
   "source": []
  },
  {
   "cell_type": "markdown",
   "id": "a9fa8baf",
   "metadata": {},
   "source": [
    "**33-write a Python Program to print all Possible Combinations from the three Digits (Input: [1, 2, 3]\n",
    "Output:\n",
    "1 2 3 ##\n",
    "1 3 2 ##\n",
    "2 1 3 ##\n",
    "2 3 1 ##\n",
    "3 1 2 ##\n",
    "3 2 1)"
   ]
  },
  {
   "cell_type": "code",
   "execution_count": 132,
   "id": "8c520a76",
   "metadata": {},
   "outputs": [
    {
     "name": "stdout",
     "output_type": "stream",
     "text": [
      "1 2 3 ##\n",
      "1 3 2 ##\n",
      "2 1 3 ##\n",
      "2 3 1 ##\n",
      "3 1 2 ##\n",
      "3 2 1 ##\n"
     ]
    }
   ],
   "source": [
    "from itertools import permutations\n",
    "input_list = [1, 2, 3]\n",
    "permutations_list = list(permutations(input_list))\n",
    "for p in permutations_list:\n",
    "    print(p[0], p[1], p[2], \"##\")"
   ]
  },
  {
   "cell_type": "markdown",
   "id": "5288bb89",
   "metadata": {},
   "source": [
    "**34-write a Python program to find all the Combinations in the list with the given condition (Input: test_list = [1,2,3] \n",
    "Output: \n",
    " [1], [1, 2], [1, 2, 3], [1, 3]\n",
    " [2], [2, 3], [3])"
   ]
  },
  {
   "cell_type": "code",
   "execution_count": 133,
   "id": "59b89646",
   "metadata": {},
   "outputs": [
    {
     "name": "stdout",
     "output_type": "stream",
     "text": [
      "[1]\n",
      "[3]\n",
      "[1, 2]\n",
      "[1, 3]\n",
      "[2, 3]\n",
      "[1, 2, 3]\n"
     ]
    }
   ],
   "source": [
    "from itertools import combinations\n",
    "test_list = [1, 2, 3]\n",
    "result = []\n",
    "for i in range(1, len(test_list) + 1):\n",
    "    for c in combinations(test_list, i):\n",
    "        if c[0] == 1 or c[-1] == 3:\n",
    "            result.append(list(c))\n",
    "for r in result:\n",
    "    print(r)"
   ]
  },
  {
   "cell_type": "markdown",
   "id": "39973705",
   "metadata": {},
   "source": [
    "**35-write a Python program to get all unique combinations of two Lists (List_1 = [\"a\",\"b\"]\n",
    "List_2 = [1,2]\n",
    "Unique_combination = [[('a',1),('b',2)],[('a',2),('b',1)]] )"
   ]
  },
  {
   "cell_type": "code",
   "execution_count": 134,
   "id": "8c4ba22b",
   "metadata": {},
   "outputs": [
    {
     "name": "stdout",
     "output_type": "stream",
     "text": [
      "Unique combinations: [[('a', 1), ('a', 2)], [('a', 1), ('b', 1)], [('a', 1), ('b', 2)], [('a', 2), ('a', 1)], [('a', 2), ('b', 1)], [('a', 2), ('b', 2)], [('b', 1), ('a', 1)], [('b', 1), ('a', 2)], [('b', 1), ('b', 2)], [('b', 2), ('a', 1)], [('b', 2), ('a', 2)], [('b', 2), ('b', 1)]]\n"
     ]
    }
   ],
   "source": [
    "from itertools import product\n",
    "list_1 = [\"a\", \"b\"]\n",
    "list_2 = [1, 2]\n",
    "unique_combinations = list(product(list_1, list_2))\n",
    "unique_combinations = [list(x) for x in product(unique_combinations, repeat=2) if len(set(x)) == len(x)]\n",
    "print(\"Unique combinations:\", unique_combinations)"
   ]
  },
  {
   "cell_type": "markdown",
   "id": "25199af5",
   "metadata": {},
   "source": [
    "**36-Remove all the occurrences of an element from a list in Python (Input : 1 1 2 3 4 5 1 2 1 \n",
    "\n",
    "**Output : 2 3 4 5 2)"
   ]
  },
  {
   "cell_type": "code",
   "execution_count": 135,
   "id": "6dc4c2ba",
   "metadata": {},
   "outputs": [
    {
     "name": "stdout",
     "output_type": "stream",
     "text": [
      "Output: [2, 3, 4, 5, 2]\n"
     ]
    }
   ],
   "source": [
    "\n",
    "input_list = [1, 1, 2, 3, 4, 5, 1, 2, 1]\n",
    "element = 1\n",
    "output_list = [x for x in input_list if x != element]\n",
    "print(\"Output:\", output_list)"
   ]
  },
  {
   "cell_type": "markdown",
   "id": "bf1a3c93",
   "metadata": {},
   "source": [
    "**37-write a python program to Replace index elements with elements in Other List (The original list 1 is : [‘Gfg’, ‘is’, ‘best’] The original list 2 is : [0, 1, 2, 1, 0, 0, 0, 2, 1, 1, 2, 0] The lists after index elements replacements is : [‘Gfg’, ‘is’, ‘best’, ‘is’, ‘Gfg’, ‘Gfg’, ‘Gfg’, ‘best’, ‘is’, ‘is’, ‘best’, ‘Gfg’])"
   ]
  },
  {
   "cell_type": "code",
   "execution_count": 136,
   "id": "fdd66a71",
   "metadata": {},
   "outputs": [
    {
     "name": "stdout",
     "output_type": "stream",
     "text": [
      "The lists after index elements replacements is : ['Gfg', 'is', 'best', 'is', 'Gfg', 'Gfg', 'Gfg', 'best', 'is', 'is', 'best', 'Gfg']\n"
     ]
    }
   ],
   "source": [
    "\n",
    "list1 = ['Gfg', 'is', 'best']\n",
    "list2 = [0, 1, 2, 1, 0, 0, 0, 2, 1, 1, 2, 0]\n",
    "for i in range(len(list2)):\n",
    "    if list2[i] < len(list1):\n",
    "        list2[i] = list1[list2[i]]\n",
    "    else:\n",
    "        list2[i] = ''\n",
    "print(\"The lists after index elements replacements is :\", list2)"
   ]
  },
  {
   "cell_type": "markdown",
   "id": "af0f56e8",
   "metadata": {},
   "source": [
    "**38- write python program to Retain records with N occurrences of K(Input : test_list = [(4, 5, 5, 4), (5, 4, 3)], K = 5, N = 2 \n",
    "Output : [(4, 5, 5, 4)]\n",
    "Input : test_list = [(4, 5, 5, 4), (5, 4, 3)], K = 5, N = 3 \n",
    "Output : [] )"
   ]
  },
  {
   "cell_type": "code",
   "execution_count": 137,
   "id": "67b06671",
   "metadata": {},
   "outputs": [
    {
     "name": "stdout",
     "output_type": "stream",
     "text": [
      "Result: [(4, 5, 5, 4)]\n"
     ]
    }
   ],
   "source": [
    "\n",
    "test_list = [(4, 5, 5, 4), (5, 4, 3)]\n",
    "K = 5\n",
    "N = 2\n",
    "result_list = [t for t in test_list if t.count(K) == N]\n",
    "print(\"Result:\", result_list)"
   ]
  },
  {
   "cell_type": "markdown",
   "id": "de76f183",
   "metadata": {},
   "source": [
    "**39-write a Python Program to Sort the list according to the column using lambda\n",
    "array = [[1, 3, 3], [2, 1, 2], [3, 2, 1]]\n",
    "Output :\n",
    "Sorted array specific to column 0, [[1, 3, 3], [2, 1, 2], [3, 2, 1]]\n",
    "Sorted array specific to column 1, [[2, 1, 2], [3, 2, 1], [1, 3, 3]]\n",
    "Sorted array specific to column 2, [[3, 2, 1], [2, 1, 2], [1, 3, 3]]"
   ]
  },
  {
   "cell_type": "code",
   "execution_count": 138,
   "id": "dc883308",
   "metadata": {},
   "outputs": [
    {
     "name": "stdout",
     "output_type": "stream",
     "text": [
      "Sorted array specific to column 0 : [[1, 3, 3], [2, 1, 2], [3, 2, 1]]\n",
      "Sorted array specific to column 1 : [[2, 1, 2], [3, 2, 1], [1, 3, 3]]\n",
      "Sorted array specific to column 2 : [[3, 2, 1], [2, 1, 2], [1, 3, 3]]\n"
     ]
    }
   ],
   "source": [
    "\n",
    "array = [[1, 3, 3], [2, 1, 2], [3, 2, 1]]\n",
    "def sort_list_by_column(arr, col):\n",
    "    return sorted(arr, key=lambda x: x[col])\n",
    "for i in range(len(array[0])):\n",
    "    sorted_array = sort_list_by_column(array, i)\n",
    "    print(\"Sorted array specific to column\", i, \":\", sorted_array)"
   ]
  },
  {
   "cell_type": "code",
   "execution_count": 139,
   "id": "d2e7b31f",
   "metadata": {},
   "outputs": [
    {
     "ename": "SyntaxError",
     "evalue": "invalid syntax (1197306156.py, line 1)",
     "output_type": "error",
     "traceback": [
      "\u001b[1;36m  Cell \u001b[1;32mIn[139], line 1\u001b[1;36m\u001b[0m\n\u001b[1;33m    **40- write a program to Sort Python Dictionaries by Key or Value\u001b[0m\n\u001b[1;37m    ^\u001b[0m\n\u001b[1;31mSyntaxError\u001b[0m\u001b[1;31m:\u001b[0m invalid syntax\n"
     ]
    }
   ],
   "source": [
    "**40- write a program to Sort Python Dictionaries by Key or Value\n",
    "Input:\n",
    "{'ravi': 10, 'rajnish': 9, 'sanjeev': 15, 'yash': 2, 'suraj': 32}\n",
    "\n",
    "Output: \n",
    "{'rajnish': 9, 'ravi': 10, 'sanjeev': 15, 'suraj': 32, 'yash': 2}"
   ]
  },
  {
   "cell_type": "code",
   "execution_count": 140,
   "id": "a96db4a0",
   "metadata": {},
   "outputs": [
    {
     "name": "stdout",
     "output_type": "stream",
     "text": [
      "Sorted by key: {'rajnish': 9, 'ravi': 10, 'sanjeev': 15, 'suraj': 32, 'yash': 2}\n",
      "Sorted by value: {'yash': 2, 'rajnish': 9, 'ravi': 10, 'sanjeev': 15, 'suraj': 32}\n"
     ]
    }
   ],
   "source": [
    "my_dict = {'ravi': 10, 'rajnish': 9, 'sanjeev': 15, 'yash': 2, 'suraj': 32}\n",
    "sorted_by_key = dict(sorted(my_dict.items()))\n",
    "sorted_by_value = dict(sorted(my_dict.items(), key=lambda x: x[1]))\n",
    "print(\"Sorted by key:\", sorted_by_key)\n",
    "print(\"Sorted by value:\", sorted_by_value)"
   ]
  },
  {
   "cell_type": "markdown",
   "id": "ec63c23a",
   "metadata": {},
   "source": [
    "**41-write python program to Remove keys with Values Greater than K ( Including mixed values )\n",
    "nput : test_dict = {‘Gfg’ : 3, ‘is’ : 7, ‘best’ : 10, ‘for’ : 6, ‘geeks’ : ‘CS’},\n",
    "K = 7 \n",
    "Output : {‘Gfg’ : 3, ‘for’ : 6, ‘geeks’ : ‘CS’}"
   ]
  },
  {
   "cell_type": "code",
   "execution_count": 141,
   "id": "e39c3a40",
   "metadata": {},
   "outputs": [
    {
     "name": "stdout",
     "output_type": "stream",
     "text": [
      "Updated dictionary: {'Gfg': 3, 'is': 7, 'for': 6, 'geeks': 'CS'}\n"
     ]
    }
   ],
   "source": [
    "test_dict = {'Gfg': 3, 'is': 7, 'best': 10, 'for': 6, 'geeks': 'CS'}\n",
    "K = 7\n",
    "result_dict = {}\n",
    "for key, val in test_dict.items():\n",
    "    if isinstance(val, int) and val > K:\n",
    "        continue\n",
    "    result_dict[key] = val\n",
    "print(\"Updated dictionary:\", result_dict)\n"
   ]
  },
  {
   "cell_type": "markdown",
   "id": "f143f0fe",
   "metadata": {},
   "source": [
    "**42-Write a Python program to concatenate the following dictionaries to create a new one\n",
    "\n",
    "Sample Dictionary :\n",
    "dic1={1:10, 2:20}\n",
    "dic2={3:30, 4:40}\n",
    "dic3={5:50,6:60}\n",
    "Expected Result : {1: 10, 2: 20, 3: 30, 4: 40, 5: 50, 6: 60}"
   ]
  },
  {
   "cell_type": "code",
   "execution_count": 142,
   "id": "74ffdfea",
   "metadata": {},
   "outputs": [
    {
     "name": "stdout",
     "output_type": "stream",
     "text": [
      "Concatenated dictionary: {1: 10, 2: 20, 3: 30, 4: 40, 5: 50, 6: 60}\n"
     ]
    }
   ],
   "source": [
    "# Define the dictionaries\n",
    "dic1 = {1: 10, 2: 20}\n",
    "dic2 = {3: 30, 4: 40}\n",
    "dic3 = {5: 50, 6: 60}\n",
    "\n",
    "# Concatenate the dictionaries\n",
    "result_dict = {}\n",
    "for d in (dic1, dic2, dic3):\n",
    "    result_dict.update(d)\n",
    "\n",
    "# Print the concatenated dictionary\n",
    "print(\"Concatenated dictionary:\", result_dict)"
   ]
  },
  {
   "cell_type": "markdown",
   "id": "fb04c93c",
   "metadata": {},
   "source": [
    "**43-Write a Python program to iterate over dictionaries using for loops"
   ]
  },
  {
   "cell_type": "code",
   "execution_count": 143,
   "id": "6aebc470",
   "metadata": {},
   "outputs": [
    {
     "name": "stdout",
     "output_type": "stream",
     "text": [
      "Keys:\n",
      "apple\n",
      "banana\n",
      "orange\n",
      "\n",
      "Values:\n",
      "3\n",
      "2\n",
      "1\n",
      "\n",
      "Key-Value Pairs:\n",
      "apple : 3\n",
      "banana : 2\n",
      "orange : 1\n"
     ]
    }
   ],
   "source": [
    "\n",
    "my_dict = {\"apple\": 3, \"banana\": 2, \"orange\": 1}\n",
    "\n",
    "\n",
    "print(\"Keys:\")\n",
    "for key in my_dict:\n",
    "    print(key)\n",
    "\n",
    "\n",
    "print(\"\\nValues:\")\n",
    "for value in my_dict.values():\n",
    "    print(value)\n",
    "\n",
    "\n",
    "print(\"\\nKey-Value Pairs:\")\n",
    "for key, value in my_dict.items():\n",
    "    print(key, \":\", value)"
   ]
  },
  {
   "cell_type": "markdown",
   "id": "5f491a9d",
   "metadata": {},
   "source": [
    "**44- Write a Python script to merge two Python dictionaries"
   ]
  },
  {
   "cell_type": "code",
   "execution_count": 144,
   "id": "b8a14028",
   "metadata": {},
   "outputs": [
    {
     "name": "stdout",
     "output_type": "stream",
     "text": [
      "Merged dictionary: {'a': 1, 'b': 2, 'c': 3, 'd': 4}\n"
     ]
    }
   ],
   "source": [
    "\n",
    "dict1 = {\"a\": 1, \"b\": 2}\n",
    "dict2 = {\"c\": 3, \"d\": 4}\n",
    "merged_dict = {**dict1, **dict2}\n",
    "print(\"Merged dictionary:\", merged_dict)"
   ]
  },
  {
   "cell_type": "markdown",
   "id": "216fc72d",
   "metadata": {},
   "source": [
    "**45-Write a Python program to get the maximum and minimum values of a dictionary values"
   ]
  },
  {
   "cell_type": "code",
   "execution_count": 145,
   "id": "d6883f5f",
   "metadata": {},
   "outputs": [
    {
     "name": "stdout",
     "output_type": "stream",
     "text": [
      "Maximum value: 15\n",
      "Minimum value: 3\n"
     ]
    }
   ],
   "source": [
    "def get_max_min_values(dictionary):\n",
    "    values = dictionary.values()\n",
    "    max_value = max(values)\n",
    "    min_value = min(values)\n",
    "    return max_value, min_value\n",
    "my_dict = {'a': 10, 'b': 5, 'c': 15, 'd': 3}\n",
    "max_value, min_value = get_max_min_values(my_dict)\n",
    "print(\"Maximum value:\", max_value)\n",
    "print(\"Minimum value:\", min_value)"
   ]
  },
  {
   "cell_type": "markdown",
   "id": "b6a53011",
   "metadata": {},
   "source": [
    "**46- Write a Python program to drop empty items from a given dictionary.\n",
    "Original Dictionary:\n",
    "{'c1': 'Red', 'c2': 'Green', 'c3': None}\n",
    "New Dictionary after dropping empty items:\n",
    "{'c1': 'Red', 'c2': 'Green'}"
   ]
  },
  {
   "cell_type": "code",
   "execution_count": 146,
   "id": "b5c6fecf",
   "metadata": {},
   "outputs": [
    {
     "name": "stdout",
     "output_type": "stream",
     "text": [
      "{'c1': 'Red', 'c2': 'Green'}\n"
     ]
    }
   ],
   "source": [
    "def drop_empty_items(dictionary):\n",
    "    new_dictionary = {key: value for key, value in dictionary.items() if value is not None}\n",
    "    return new_dictionary\n",
    "dict = {'c1': 'Red', 'c2': 'Green', 'c3': None}\n",
    "print(drop_empty_items(dict))\n"
   ]
  },
  {
   "cell_type": "markdown",
   "id": "46d718c7",
   "metadata": {},
   "source": [
    "**47-Write a Python program to create a tuple of numbers and print one item"
   ]
  },
  {
   "cell_type": "code",
   "execution_count": 147,
   "id": "13216ff5",
   "metadata": {},
   "outputs": [
    {
     "name": "stdout",
     "output_type": "stream",
     "text": [
      "Second item in the tuple: 2\n"
     ]
    }
   ],
   "source": [
    "\n",
    "my_tuple = (1, 2, 3, 4, 5)\n",
    "print(\"Second item in the tuple:\", my_tuple[1])"
   ]
  },
  {
   "cell_type": "markdown",
   "id": "2be5b56b",
   "metadata": {},
   "source": [
    "**48-Write a Python program to unpack a tuple into several variables"
   ]
  },
  {
   "cell_type": "code",
   "execution_count": 148,
   "id": "595f44be",
   "metadata": {},
   "outputs": [
    {
     "name": "stdout",
     "output_type": "stream",
     "text": [
      "a = 1\n",
      "b = 2\n",
      "c = 3\n"
     ]
    }
   ],
   "source": [
    "\n",
    "my_tuple = (1, 2, 3)\n",
    "a, b, c = my_tuple\n",
    "print(\"a =\", a)\n",
    "print(\"b =\", b)\n",
    "print(\"c =\", c)"
   ]
  },
  {
   "cell_type": "markdown",
   "id": "392388a7",
   "metadata": {},
   "source": [
    "**49-Write a Python program to add an item to a tuple"
   ]
  },
  {
   "cell_type": "code",
   "execution_count": 149,
   "id": "54cc092e",
   "metadata": {},
   "outputs": [
    {
     "data": {
      "text/plain": [
       "(1, 2, 3, 4, 5, 6)"
      ]
     },
     "execution_count": 149,
     "metadata": {},
     "output_type": "execute_result"
    }
   ],
   "source": [
    "def add_item_to_tuple(my_tuple, item):\n",
    "    new_tuple = my_tuple + (item,)\n",
    "    return new_tuple\n",
    "tup=(1,2,3,4,5)\n",
    "item=6\n",
    "add_item_to_tuple(tup,item)"
   ]
  },
  {
   "cell_type": "markdown",
   "id": "3e8fd124",
   "metadata": {},
   "source": [
    "**50-Write a Python program to convert a tuple to a string"
   ]
  },
  {
   "cell_type": "code",
   "execution_count": 150,
   "id": "92a71ddc",
   "metadata": {},
   "outputs": [
    {
     "name": "stdout",
     "output_type": "stream",
     "text": [
      "[1, 2, 3, 4, 5]\n"
     ]
    }
   ],
   "source": [
    "def convert_tup_to_list(my_tup):\n",
    "    my_list = list(my_tup)\n",
    "    return my_list\n",
    "tuple_con=(1,2,3,4,5)\n",
    "print(convert_tup_to_list(tuple_con))"
   ]
  },
  {
   "cell_type": "markdown",
   "id": "f4f64ef4",
   "metadata": {},
   "source": [
    "**51-Write a Python program to convert a list to a tuple"
   ]
  },
  {
   "cell_type": "code",
   "execution_count": 151,
   "id": "210d56d3",
   "metadata": {},
   "outputs": [
    {
     "name": "stdout",
     "output_type": "stream",
     "text": [
      "(1, 2, 3, 4, 5)\n"
     ]
    }
   ],
   "source": [
    "def convert_list_to_tuple(my_list):\n",
    "    my_tuple = tuple(my_list)\n",
    "    return my_tuple\n",
    "list_con=[1,2,3,4,5]\n",
    "print(convert_list_to_tuple(tuple_con))"
   ]
  },
  {
   "cell_type": "markdown",
   "id": "b1e00ef7",
   "metadata": {},
   "source": [
    "**52-Write a Python program to reverse a tuple"
   ]
  },
  {
   "cell_type": "code",
   "execution_count": 152,
   "id": "f45bfdc7",
   "metadata": {},
   "outputs": [
    {
     "name": "stdout",
     "output_type": "stream",
     "text": [
      "(6, 5, 4, 3, 2, 1)\n"
     ]
    }
   ],
   "source": [
    "def reverse_tuple(tuple_value):\n",
    "    reversed_tuple = tuple_value[::-1]\n",
    "    return reversed_tuple\n",
    "tup_con=(1,2,3,4,5,6)\n",
    "print(reverse_tuple(tup_con))\n"
   ]
  },
  {
   "cell_type": "markdown",
   "id": "3cd347d1",
   "metadata": {},
   "source": [
    "**53-Write a Python program to replace the last value of tuples in a list.\n",
    "Sample list: [(10, 20, 40), (40, 50, 60), (70, 80, 90)]\n",
    "Expected Output: [(10, 20, 100), (40, 50, 100), (70, 80, 100)]"
   ]
  },
  {
   "cell_type": "code",
   "execution_count": 153,
   "id": "3c4a2a4c",
   "metadata": {},
   "outputs": [
    {
     "name": "stdout",
     "output_type": "stream",
     "text": [
      "[(10, 20, 100), (40, 50, 100), (70, 80, 100)]\n"
     ]
    }
   ],
   "source": [
    "def replace_last_value(tuple_list, new_value):\n",
    "    modified_list = []\n",
    "    for tuple_item in tuple_list:\n",
    "        modified_tuple = tuple_item[:-1] + (new_value,)\n",
    "        modified_list.append(modified_tuple)\n",
    "    return modified_list\n",
    "new=100\n",
    "tuple_list=[(10,20,40),(40,50,60),(70,80,90)]\n",
    "print(replace_last_value(tuple_list,new))"
   ]
  },
  {
   "cell_type": "markdown",
   "id": "76bb7b39",
   "metadata": {},
   "source": [
    "**54-Write a Python program to convert a given string list to a tuple\n",
    "Original string: python 3.0\n",
    "<class 'str'>\n",
    "Convert the said string to a tuple:\n",
    "('p', 'y', 't', 'h', 'o', 'n', '3', '.', '0')"
   ]
  },
  {
   "cell_type": "code",
   "execution_count": 154,
   "id": "51951937",
   "metadata": {},
   "outputs": [
    {
     "name": "stdout",
     "output_type": "stream",
     "text": [
      "('p', 'y', 't', 'h', 'o', 'n', ' ', '3', '.', '0')\n"
     ]
    }
   ],
   "source": [
    "def convert_string_to_tuple(string):\n",
    "    char_list = list(string)  # Convert string to a list of characters\n",
    "    string_tuple = tuple(char_list)  # Convert the list to a tuple\n",
    "    return string_tuple\n",
    "string=\"python 3.0\"\n",
    "converted=convert_string_to_tuple(string)\n",
    "print(converted)\n"
   ]
  },
  {
   "cell_type": "markdown",
   "id": "5a1d5d97",
   "metadata": {},
   "source": [
    "**55-Write a Python program to calculate the average value of the numbers in a given tuple of tuples"
   ]
  },
  {
   "cell_type": "code",
   "execution_count": 155,
   "id": "834e7992",
   "metadata": {},
   "outputs": [
    {
     "name": "stdout",
     "output_type": "stream",
     "text": [
      "Average value: 5.0\n"
     ]
    }
   ],
   "source": [
    "\n",
    "my_tuple = ((1, 2, 3), (4, 5, 6), (7, 8, 9))\n",
    "sum = 0\n",
    "count = 0\n",
    "for tup in my_tuple:\n",
    "    for num in tup:\n",
    "        sum += num\n",
    "        count += 1\n",
    "average = sum / count\n",
    "print(\"Average value:\", average)"
   ]
  },
  {
   "cell_type": "markdown",
   "id": "51edab9c",
   "metadata": {},
   "source": [
    "**56-Write a Python program to add member(s) to a set."
   ]
  },
  {
   "cell_type": "code",
   "execution_count": 156,
   "id": "2b65df79",
   "metadata": {},
   "outputs": [
    {
     "name": "stdout",
     "output_type": "stream",
     "text": [
      "{1, 2, 3, 4, 5, 6}\n"
     ]
    }
   ],
   "source": [
    "def add_members(my_set, members):\n",
    "    for member in members:\n",
    "        my_set.add(member)\n",
    "setoo={1,2,3,4}\n",
    "num_add={5,6}\n",
    "add_members(setoo,num_add)\n",
    "print(setoo)"
   ]
  },
  {
   "cell_type": "markdown",
   "id": "965590cc",
   "metadata": {},
   "source": [
    "**57-Write a Python program to remove an item from a set if it is present in the set."
   ]
  },
  {
   "cell_type": "code",
   "execution_count": 157,
   "id": "866bab28",
   "metadata": {},
   "outputs": [
    {
     "name": "stdout",
     "output_type": "stream",
     "text": [
      "Item removed\n",
      "Updated Set: {1, 2, 3, 5}\n"
     ]
    }
   ],
   "source": [
    "\n",
    "my_set = {1, 2, 3, 4, 5}\n",
    "item_to_remove = 4\n",
    "if item_to_remove in my_set:\n",
    "    my_set.remove(item_to_remove)\n",
    "    print(\"Item removed\")\n",
    "else:\n",
    "    print(\"Item not found in set\")\n",
    "print(\"Updated Set:\", my_set)"
   ]
  },
  {
   "cell_type": "markdown",
   "id": "2b7cfed1",
   "metadata": {},
   "source": [
    "**58-Write a Python program to create an intersection,union,difference and symmetric difference of sets"
   ]
  },
  {
   "cell_type": "code",
   "execution_count": 158,
   "id": "7f94b7fe",
   "metadata": {},
   "outputs": [
    {
     "name": "stdout",
     "output_type": "stream",
     "text": [
      "Intersection: {4, 5}\n",
      "Union: {1, 2, 3, 4, 5, 6, 7, 8}\n",
      "Difference: {1, 2, 3}\n",
      "Symmetric Difference: {1, 2, 3, 6, 7, 8}\n"
     ]
    }
   ],
   "source": [
    "\n",
    "set1 = {1, 2, 3, 4, 5}\n",
    "set2 = {4, 5, 6, 7, 8}\n",
    "intersection = set1.intersection(set2)\n",
    "print(\"Intersection:\", intersection)\n",
    "union = set1.union(set2)\n",
    "print(\"Union:\", union)\n",
    "difference = set1.difference(set2)\n",
    "print(\"Difference:\", difference)\n",
    "symmetric_difference = set1.symmetric_difference(set2)\n",
    "print(\"Symmetric Difference:\", symmetric_difference)"
   ]
  },
  {
   "cell_type": "markdown",
   "id": "b94931e2",
   "metadata": {},
   "source": [
    "**59-Write a Python program to find the maximum and minimum values in a set"
   ]
  },
  {
   "cell_type": "code",
   "execution_count": 159,
   "id": "83fc49ed",
   "metadata": {},
   "outputs": [
    {
     "name": "stdout",
     "output_type": "stream",
     "text": [
      "5\n",
      "1\n"
     ]
    }
   ],
   "source": [
    "\n",
    "def find_max_min(my_set):\n",
    "    my_list = list(my_set)\n",
    "    max_value = max(my_list)\n",
    "    min_value = min(my_list)\n",
    "    return max_value, min_value\n",
    "set={1,2,3,4,5}\n",
    "max_number,min_number=find_max_min(set)\n",
    "print(max_number)\n",
    "print(min_number)"
   ]
  },
  {
   "cell_type": "markdown",
   "id": "255fd554",
   "metadata": {},
   "source": [
    "**60- Write a Python program that finds all pairs of elements in a list whose sum is equal to a given value."
   ]
  },
  {
   "cell_type": "code",
   "execution_count": 160,
   "id": "c2d94e1f",
   "metadata": {},
   "outputs": [
    {
     "name": "stdout",
     "output_type": "stream",
     "text": [
      "(3, 12)\n",
      "(4, 11)\n",
      "(5, 10)\n",
      "(6, 9)\n",
      "(7, 8)\n"
     ]
    }
   ],
   "source": [
    "def find_number_pairs(numbers):\n",
    "    number_pairs = []\n",
    "\n",
    "    for i in range(len(numbers)):\n",
    "        for j in range(i + 1, len(numbers)):\n",
    "            if numbers[i] + numbers[j] == 15:\n",
    "                number_pairs.append((numbers[i], numbers[j]))\n",
    "\n",
    "    return number_pairs\n",
    "numbers=[1,2,3,4,5,6,7,8,9,10,11,12]\n",
    "dues=find_number_pairs(numbers)\n",
    "for due in dues:\n",
    "    print(due)"
   ]
  }
 ],
 "metadata": {
  "kernelspec": {
   "display_name": "Python 3 (ipykernel)",
   "language": "python",
   "name": "python3"
  },
  "language_info": {
   "codemirror_mode": {
    "name": "ipython",
    "version": 3
   },
   "file_extension": ".py",
   "mimetype": "text/x-python",
   "name": "python",
   "nbconvert_exporter": "python",
   "pygments_lexer": "ipython3",
   "version": "3.11.3"
  }
 },
 "nbformat": 4,
 "nbformat_minor": 5
}
